{
 "cells": [
  {
   "cell_type": "code",
<<<<<<< HEAD
   "execution_count": 104,
=======
   "execution_count": 228,
>>>>>>> 7f99b6294f59e973ea3f4975276f4eccca4ce644
   "metadata": {},
   "outputs": [],
   "source": [
    "import numpy as np\n",
    "from itertools import product"
   ]
  },
  {
   "cell_type": "code",
<<<<<<< HEAD
   "execution_count": 105,
=======
   "execution_count": 229,
>>>>>>> 7f99b6294f59e973ea3f4975276f4eccca4ce644
   "metadata": {},
   "outputs": [],
   "source": [
    "x = np.array([[[[1, 2],[3, 4]],[[5, 6],[7, 8]]],\n",
    "              [[[8, 7],[6, 5]],[[4, 3],[2, 1]]]],dtype=float)"
   ]
  },
  {
   "cell_type": "code",
<<<<<<< HEAD
   "execution_count": 106,
   "metadata": {},
   "outputs": [],
   "source": [
    "# convert x to 4x4 matrix\n",
=======
   "execution_count": 230,
   "metadata": {},
   "outputs": [],
   "source": [
>>>>>>> 7f99b6294f59e973ea3f4975276f4eccca4ce644
    "y = x.reshape((4,4))"
   ]
  },
  {
   "cell_type": "code",
<<<<<<< HEAD
   "execution_count": 107,
=======
   "execution_count": 231,
>>>>>>> 7f99b6294f59e973ea3f4975276f4eccca4ce644
   "metadata": {},
   "outputs": [
    {
     "data": {
      "text/plain": [
<<<<<<< HEAD
       "array([[1, 2, 3, 4],\n",
       "       [5, 6, 7, 8],\n",
       "       [8, 7, 6, 5],\n",
       "       [4, 3, 2, 1]])"
      ]
     },
     "execution_count": 107,
=======
       "array([[1., 2., 3., 4.],\n",
       "       [5., 6., 7., 8.],\n",
       "       [8., 7., 6., 5.],\n",
       "       [4., 3., 2., 1.]])"
      ]
     },
     "execution_count": 231,
>>>>>>> 7f99b6294f59e973ea3f4975276f4eccca4ce644
     "metadata": {},
     "output_type": "execute_result"
    }
   ],
   "source": [
    "y"
   ]
  },
  {
   "cell_type": "code",
<<<<<<< HEAD
   "execution_count": 108,
=======
   "execution_count": 232,
>>>>>>> 7f99b6294f59e973ea3f4975276f4eccca4ce644
   "metadata": {},
   "outputs": [],
   "source": [
    "# perform svd for y\n",
    "uy,sy,vy = np.linalg.svd(y, full_matrices=True)"
   ]
  },
  {
   "cell_type": "code",
<<<<<<< HEAD
   "execution_count": 109,
=======
   "execution_count": 233,
>>>>>>> 7f99b6294f59e973ea3f4975276f4eccca4ce644
   "metadata": {},
   "outputs": [
    {
     "data": {
      "text/plain": [
       "array([[-0.5       , -0.5       , -0.5       , -0.5       ],\n",
       "       [ 0.67082039,  0.2236068 , -0.2236068 , -0.67082039],\n",
       "       [ 0.45584189, -0.83412248,  0.3007193 ,  0.07756129],\n",
       "       [-0.30365798,  0.06511283,  0.7807483 , -0.54220314]])"
      ]
     },
     "execution_count": 233,
     "metadata": {},
     "output_type": "execute_result"
    }
   ],
   "source": [
    "vy"
   ]
  },
  {
   "cell_type": "code",
<<<<<<< HEAD
   "execution_count": 110,
=======
   "execution_count": 234,
   "metadata": {},
   "outputs": [
    {
     "data": {
      "text/plain": [
       "array([1.96977156e+01, 4.47213595e+00, 1.12793464e-15, 8.40295660e-17])"
      ]
     },
     "execution_count": 234,
     "metadata": {},
     "output_type": "execute_result"
    }
   ],
   "source": [
    "# keep the largest 2 sv's only\n",
    "sy"
   ]
  },
  {
   "cell_type": "code",
   "execution_count": 235,
>>>>>>> 7f99b6294f59e973ea3f4975276f4eccca4ce644
   "metadata": {},
   "outputs": [],
   "source": [
    "sy = sy[0:2]\n",
    "diag_sy = np.diag(sy)\n",
    "sy1 = np.sqrt(diag_sy)\n",
    "sy2 = np.sqrt(diag_sy)"
   ]
  },
  {
   "cell_type": "code",
<<<<<<< HEAD
   "execution_count": 111,
=======
   "execution_count": 236,
>>>>>>> 7f99b6294f59e973ea3f4975276f4eccca4ce644
   "metadata": {},
   "outputs": [
    {
     "data": {
      "text/plain": [
       "array([[19.6977156 ,  0.        ],\n",
       "       [ 0.        ,  4.47213595]])"
      ]
     },
<<<<<<< HEAD
     "execution_count": 111,
=======
     "execution_count": 236,
>>>>>>> 7f99b6294f59e973ea3f4975276f4eccca4ce644
     "metadata": {},
     "output_type": "execute_result"
    }
   ],
   "source": [
    "diag_sy"
   ]
  },
  {
   "cell_type": "code",
<<<<<<< HEAD
   "execution_count": 112,
=======
   "execution_count": 237,
>>>>>>> 7f99b6294f59e973ea3f4975276f4eccca4ce644
   "metadata": {},
   "outputs": [
    {
     "data": {
      "text/plain": [
       "array([[4.43821086, 0.        ],\n",
       "       [0.        , 2.11474253]])"
      ]
     },
<<<<<<< HEAD
     "execution_count": 112,
=======
     "execution_count": 237,
>>>>>>> 7f99b6294f59e973ea3f4975276f4eccca4ce644
     "metadata": {},
     "output_type": "execute_result"
    }
   ],
   "source": [
    "sy1"
   ]
  },
  {
   "cell_type": "code",
<<<<<<< HEAD
   "execution_count": 113,
=======
   "execution_count": 238,
>>>>>>> 7f99b6294f59e973ea3f4975276f4eccca4ce644
   "metadata": {},
   "outputs": [
    {
     "data": {
      "text/plain": [
       "array([[-0.25383654, -0.5       ],\n",
       "       [-0.65997501, -0.5       ],\n",
       "       [-0.65997501,  0.5       ],\n",
       "       [-0.25383654,  0.5       ]])"
      ]
     },
<<<<<<< HEAD
     "execution_count": 113,
=======
     "execution_count": 238,
>>>>>>> 7f99b6294f59e973ea3f4975276f4eccca4ce644
     "metadata": {},
     "output_type": "execute_result"
    }
   ],
   "source": [
    "uy = uy[:,0:2]\n",
    "uy"
   ]
  },
  {
   "cell_type": "code",
<<<<<<< HEAD
   "execution_count": 114,
=======
   "execution_count": 239,
>>>>>>> 7f99b6294f59e973ea3f4975276f4eccca4ce644
   "metadata": {},
   "outputs": [
    {
     "data": {
      "text/plain": [
       "array([[-0.5       , -0.5       , -0.5       , -0.5       ],\n",
       "       [ 0.67082039,  0.2236068 , -0.2236068 , -0.67082039]])"
      ]
     },
<<<<<<< HEAD
     "execution_count": 114,
=======
     "execution_count": 239,
>>>>>>> 7f99b6294f59e973ea3f4975276f4eccca4ce644
     "metadata": {},
     "output_type": "execute_result"
    }
   ],
   "source": [
    "vy = vy[0:2,:]\n",
    "vy"
   ]
  },
  {
   "cell_type": "code",
<<<<<<< HEAD
   "execution_count": 115,
=======
   "execution_count": 240,
>>>>>>> 7f99b6294f59e973ea3f4975276f4eccca4ce644
   "metadata": {},
   "outputs": [],
   "source": [
    "mat1 = np.matmul(uy,sy1)\n",
    "mat2 = np.matmul(sy2,vy)"
   ]
  },
  {
   "cell_type": "code",
<<<<<<< HEAD
   "execution_count": 116,
=======
   "execution_count": 241,
>>>>>>> 7f99b6294f59e973ea3f4975276f4eccca4ce644
   "metadata": {},
   "outputs": [
    {
     "data": {
      "text/plain": [
       "array([[-1.12658009, -1.05737126],\n",
       "       [-2.92910824, -1.05737126],\n",
       "       [-2.92910824,  1.05737126],\n",
       "       [-1.12658009,  1.05737126]])"
      ]
     },
<<<<<<< HEAD
     "execution_count": 116,
=======
     "execution_count": 241,
>>>>>>> 7f99b6294f59e973ea3f4975276f4eccca4ce644
     "metadata": {},
     "output_type": "execute_result"
    }
   ],
   "source": [
    "mat1"
   ]
  },
  {
   "cell_type": "code",
<<<<<<< HEAD
   "execution_count": 117,
=======
   "execution_count": 242,
>>>>>>> 7f99b6294f59e973ea3f4975276f4eccca4ce644
   "metadata": {},
   "outputs": [
    {
     "data": {
      "text/plain": [
       "array([[-2.21910543, -2.21910543, -2.21910543, -2.21910543],\n",
       "       [ 1.41861241,  0.4728708 , -0.4728708 , -1.41861241]])"
      ]
     },
<<<<<<< HEAD
     "execution_count": 117,
=======
     "execution_count": 242,
>>>>>>> 7f99b6294f59e973ea3f4975276f4eccca4ce644
     "metadata": {},
     "output_type": "execute_result"
    }
   ],
   "source": [
    "mat2"
   ]
  },
  {
   "cell_type": "code",
<<<<<<< HEAD
   "execution_count": 118,
=======
   "execution_count": 243,
>>>>>>> 7f99b6294f59e973ea3f4975276f4eccca4ce644
   "metadata": {},
   "outputs": [
    {
     "data": {
      "text/plain": [
       "array([[1., 2., 3., 4.],\n",
       "       [5., 6., 7., 8.],\n",
       "       [8., 7., 6., 5.],\n",
       "       [4., 3., 2., 1.]])"
      ]
     },
<<<<<<< HEAD
     "execution_count": 118,
=======
     "execution_count": 243,
>>>>>>> 7f99b6294f59e973ea3f4975276f4eccca4ce644
     "metadata": {},
     "output_type": "execute_result"
    }
   ],
   "source": [
    "# verify svd result\n",
    "np.matmul(mat1,mat2)"
   ]
  },
  {
   "cell_type": "code",
<<<<<<< HEAD
   "execution_count": 119,
=======
   "execution_count": 244,
>>>>>>> 7f99b6294f59e973ea3f4975276f4eccca4ce644
   "metadata": {},
   "outputs": [],
   "source": [
    "tensor1 = mat1.reshape((2,2,2))\n",
    "tensor2 = mat2.reshape((2,2,2))"
   ]
  },
  {
   "cell_type": "code",
<<<<<<< HEAD
   "execution_count": 120,
=======
   "execution_count": 245,
>>>>>>> 7f99b6294f59e973ea3f4975276f4eccca4ce644
   "metadata": {},
   "outputs": [
    {
     "data": {
      "text/plain": [
<<<<<<< HEAD
       "array([-2.21910543, -2.21910543])"
      ]
     },
     "execution_count": 120,
=======
       "array([[-1.12658009, -1.05737126],\n",
       "       [-2.92910824, -1.05737126],\n",
       "       [-2.92910824,  1.05737126],\n",
       "       [-1.12658009,  1.05737126]])"
      ]
     },
     "execution_count": 245,
>>>>>>> 7f99b6294f59e973ea3f4975276f4eccca4ce644
     "metadata": {},
     "output_type": "execute_result"
    }
   ],
   "source": [
    "tensor2[0,1]"
   ]
  },
  {
   "cell_type": "code",
<<<<<<< HEAD
   "execution_count": 121,
   "metadata": {},
   "outputs": [],
   "source": [
    "result = np.einsum('lin,njk->lijk',tensor1,tensor2)"
=======
   "execution_count": 246,
   "metadata": {},
   "outputs": [],
   "source": [
    "tensor1 = mat1.reshape((2,2,2))"
>>>>>>> 7f99b6294f59e973ea3f4975276f4eccca4ce644
   ]
  },
  {
   "cell_type": "code",
<<<<<<< HEAD
   "execution_count": 122,
=======
   "execution_count": 247,
>>>>>>> 7f99b6294f59e973ea3f4975276f4eccca4ce644
   "metadata": {},
   "outputs": [
    {
     "data": {
      "text/plain": [
<<<<<<< HEAD
       "array([[[[1., 2.],\n",
       "         [3., 4.]],\n",
       "\n",
       "        [[5., 6.],\n",
       "         [7., 8.]]],\n",
       "\n",
       "\n",
       "       [[[8., 7.],\n",
       "         [6., 5.]],\n",
       "\n",
       "        [[4., 3.],\n",
       "         [2., 1.]]]])"
      ]
     },
     "execution_count": 122,
=======
       "-2.9291082423459662"
      ]
     },
     "execution_count": 247,
>>>>>>> 7f99b6294f59e973ea3f4975276f4eccca4ce644
     "metadata": {},
     "output_type": "execute_result"
    }
   ],
   "source": [
<<<<<<< HEAD
    "result"
   ]
  },
  {
   "cell_type": "code",
   "execution_count": null,
   "metadata": {},
   "outputs": [],
   "source": []
  },
  {
   "cell_type": "code",
   "execution_count": 123,
   "metadata": {},
   "outputs": [],
   "source": [
    "x = np.array([[[[1, 2],[3, 4]],[[5, 6],[7, 8]]],\n",
    "              [[[8, 7],[6, 5]],[[4, 3],[2, 1]]]])"
=======
    "tensor1[1,0,0]"
>>>>>>> 7f99b6294f59e973ea3f4975276f4eccca4ce644
   ]
  },
  {
   "cell_type": "code",
<<<<<<< HEAD
   "execution_count": 124,
   "metadata": {},
   "outputs": [],
   "source": [
    "# convert x to 4x4 matrix\n",
    "y = (np.einsum('lijk->ijkl',x)).reshape((4,4))"
   ]
  },
  {
   "cell_type": "code",
   "execution_count": 125,
=======
   "execution_count": 248,
>>>>>>> 7f99b6294f59e973ea3f4975276f4eccca4ce644
   "metadata": {},
   "outputs": [
    {
     "data": {
      "text/plain": [
<<<<<<< HEAD
       "array([[1, 8, 2, 7],\n",
       "       [3, 6, 4, 5],\n",
       "       [5, 4, 6, 3],\n",
       "       [7, 2, 8, 1]])"
      ]
     },
     "execution_count": 125,
=======
       "array([[-2.21910543, -2.21910543, -2.21910543, -2.21910543],\n",
       "       [ 1.41861241,  0.4728708 , -0.4728708 , -1.41861241]])"
      ]
     },
     "execution_count": 248,
>>>>>>> 7f99b6294f59e973ea3f4975276f4eccca4ce644
     "metadata": {},
     "output_type": "execute_result"
    }
   ],
   "source": [
    "y"
   ]
  },
  {
   "cell_type": "code",
   "execution_count": 126,
   "metadata": {},
   "outputs": [],
   "source": [
    "# perform svd for y\n",
    "uy,sy,vy = np.linalg.svd(y, full_matrices=True)"
   ]
  },
  {
   "cell_type": "code",
<<<<<<< HEAD
   "execution_count": 127,
   "metadata": {},
   "outputs": [],
   "source": [
    "# keep the largest 2 sv's only"
   ]
  },
  {
   "cell_type": "code",
   "execution_count": 128,
   "metadata": {},
   "outputs": [],
   "source": [
    "sy = sy[0:2]\n",
    "diag_sy = np.diag(sy)\n",
    "sy1 = np.sqrt(diag_sy)\n",
    "sy2 = np.sqrt(diag_sy)"
   ]
  },
  {
   "cell_type": "code",
   "execution_count": 129,
   "metadata": {},
   "outputs": [
    {
     "data": {
      "text/plain": [
       "array([[18.11077028,  0.        ],\n",
       "       [ 0.        ,  8.94427191]])"
      ]
     },
     "execution_count": 129,
     "metadata": {},
     "output_type": "execute_result"
    }
   ],
   "source": [
    "diag_sy"
   ]
  },
  {
   "cell_type": "code",
   "execution_count": 130,
   "metadata": {},
   "outputs": [
    {
     "data": {
      "text/plain": [
       "array([[4.25567507, 0.        ],\n",
       "       [0.        , 2.99069756]])"
      ]
     },
     "execution_count": 130,
     "metadata": {},
     "output_type": "execute_result"
    }
   ],
   "source": [
    "sy1"
   ]
  },
  {
   "cell_type": "code",
   "execution_count": 131,
   "metadata": {},
   "outputs": [
    {
     "data": {
      "text/plain": [
       "array([[-0.5       , -0.67082039],\n",
       "       [-0.5       , -0.2236068 ],\n",
       "       [-0.5       ,  0.2236068 ],\n",
       "       [-0.5       ,  0.67082039]])"
      ]
     },
     "execution_count": 131,
     "metadata": {},
     "output_type": "execute_result"
    }
   ],
   "source": [
    "uy = uy[:,0:2]\n",
    "uy"
   ]
  },
  {
   "cell_type": "code",
   "execution_count": 132,
   "metadata": {},
   "outputs": [
    {
     "data": {
      "text/plain": [
       "array([[-0.4417261 , -0.55215763, -0.55215763, -0.4417261 ],\n",
       "       [ 0.5       , -0.5       ,  0.5       , -0.5       ]])"
      ]
     },
     "execution_count": 132,
     "metadata": {},
     "output_type": "execute_result"
    }
   ],
   "source": [
    "vy = vy[0:2,:]\n",
    "vy"
   ]
  },
  {
   "cell_type": "code",
   "execution_count": 133,
   "metadata": {},
   "outputs": [],
   "source": [
    "mat1 = np.matmul(uy,sy1)\n",
    "mat2 = np.matmul(sy2,vy)"
=======
   "execution_count": 249,
   "metadata": {},
   "outputs": [],
   "source": [
    "tensor2 = mat2.reshape((2,2,2))"
>>>>>>> 7f99b6294f59e973ea3f4975276f4eccca4ce644
   ]
  },
  {
   "cell_type": "code",
<<<<<<< HEAD
   "execution_count": 134,
=======
   "execution_count": 250,
>>>>>>> 7f99b6294f59e973ea3f4975276f4eccca4ce644
   "metadata": {},
   "outputs": [
    {
     "data": {
      "text/plain": [
<<<<<<< HEAD
       "array([[-2.12783753, -2.00622091],\n",
       "       [-2.12783753, -0.6687403 ],\n",
       "       [-2.12783753,  0.6687403 ],\n",
       "       [-2.12783753,  2.00622091]])"
      ]
     },
     "execution_count": 134,
=======
       "array([[[-2.21910543, -2.21910543],\n",
       "        [-2.21910543, -2.21910543]],\n",
       "\n",
       "       [[ 1.41861241,  0.4728708 ],\n",
       "        [-0.4728708 , -1.41861241]]])"
      ]
     },
     "execution_count": 250,
>>>>>>> 7f99b6294f59e973ea3f4975276f4eccca4ce644
     "metadata": {},
     "output_type": "execute_result"
    }
   ],
   "source": [
<<<<<<< HEAD
    "mat1"
=======
    "tensor2"
>>>>>>> 7f99b6294f59e973ea3f4975276f4eccca4ce644
   ]
  },
  {
   "cell_type": "code",
<<<<<<< HEAD
   "execution_count": 135,
   "metadata": {},
   "outputs": [
    {
     "data": {
      "text/plain": [
       "array([[-1.87984277, -2.34980346, -2.34980346, -1.87984277],\n",
       "       [ 1.49534878, -1.49534878,  1.49534878, -1.49534878]])"
      ]
     },
     "execution_count": 135,
     "metadata": {},
     "output_type": "execute_result"
    }
   ],
   "source": [
    "mat2"
   ]
  },
  {
   "cell_type": "code",
   "execution_count": 136,
   "metadata": {},
   "outputs": [
    {
     "data": {
      "text/plain": [
       "array([[1., 8., 2., 7.],\n",
       "       [3., 6., 4., 5.],\n",
       "       [5., 4., 6., 3.],\n",
       "       [7., 2., 8., 1.]])"
      ]
     },
     "execution_count": 136,
     "metadata": {},
     "output_type": "execute_result"
    }
   ],
   "source": [
    "# verify svd result\n",
    "np.matmul(mat1,mat2)"
   ]
  },
  {
   "cell_type": "code",
   "execution_count": 137,
   "metadata": {},
   "outputs": [],
   "source": [
    "tensor1 = mat1.reshape((2,2,2))\n",
    "tensor2 = mat2.reshape((2,2,2))"
=======
   "execution_count": 251,
   "metadata": {},
   "outputs": [],
   "source": [
    "result = np.einsum('lin,njk->lijk',tensor1,tensor2)"
>>>>>>> 7f99b6294f59e973ea3f4975276f4eccca4ce644
   ]
  },
  {
   "cell_type": "code",
<<<<<<< HEAD
   "execution_count": 138,
   "metadata": {},
   "outputs": [
    {
     "data": {
      "text/plain": [
       "array([-2.34980346, -1.87984277])"
      ]
     },
     "execution_count": 138,
     "metadata": {},
     "output_type": "execute_result"
    }
   ],
   "source": [
    "tensor2[0,1]"
   ]
  },
  {
   "cell_type": "code",
   "execution_count": 139,
   "metadata": {},
   "outputs": [],
   "source": [
    "result = np.einsum('ijn,nkl->lijk',tensor1,tensor2)"
   ]
  },
  {
   "cell_type": "code",
   "execution_count": 140,
=======
   "execution_count": 252,
>>>>>>> 7f99b6294f59e973ea3f4975276f4eccca4ce644
   "metadata": {},
   "outputs": [
    {
     "data": {
      "text/plain": [
       "array([[[[1., 2.],\n",
       "         [3., 4.]],\n",
       "\n",
       "        [[5., 6.],\n",
       "         [7., 8.]]],\n",
       "\n",
       "\n",
       "       [[[8., 7.],\n",
       "         [6., 5.]],\n",
       "\n",
       "        [[4., 3.],\n",
       "         [2., 1.]]]])"
      ]
     },
<<<<<<< HEAD
     "execution_count": 140,
=======
     "execution_count": 252,
>>>>>>> 7f99b6294f59e973ea3f4975276f4eccca4ce644
     "metadata": {},
     "output_type": "execute_result"
    }
   ],
   "source": [
    "result"
   ]
  }
 ],
 "metadata": {
  "kernelspec": {
   "display_name": "Python 3",
   "language": "python",
   "name": "python3"
  },
  "language_info": {
   "codemirror_mode": {
    "name": "ipython",
    "version": 3
   },
   "file_extension": ".py",
   "mimetype": "text/x-python",
   "name": "python",
   "nbconvert_exporter": "python",
   "pygments_lexer": "ipython3",
   "version": "3.6.6"
  }
 },
 "nbformat": 4,
 "nbformat_minor": 2
}
