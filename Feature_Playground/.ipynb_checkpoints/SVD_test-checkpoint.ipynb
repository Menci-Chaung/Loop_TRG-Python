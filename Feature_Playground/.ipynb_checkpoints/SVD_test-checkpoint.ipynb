{
 "cells": [
  {
   "cell_type": "code",
<<<<<<< HEAD
   "execution_count": 27,
=======
   "execution_count": 228,
>>>>>>> 7f99b6294f59e973ea3f4975276f4eccca4ce644
   "metadata": {},
   "outputs": [],
   "source": [
    "import numpy as np\n",
    "from itertools import product"
   ]
  },
  {
   "cell_type": "code",
<<<<<<< HEAD
   "execution_count": 28,
=======
   "execution_count": 229,
>>>>>>> 7f99b6294f59e973ea3f4975276f4eccca4ce644
   "metadata": {},
   "outputs": [],
   "source": [
    "x = np.array([[[[1, 2],[3, 4]],[[5, 6],[7, 8]]],\n",
<<<<<<< HEAD
    "              [[[8, 7],[6, 5]],[[4, 3],[2, 1]]]])"
=======
    "              [[[8, 7],[6, 5]],[[4, 3],[2, 1]]]],dtype=float)"
>>>>>>> 7f99b6294f59e973ea3f4975276f4eccca4ce644
   ]
  },
  {
   "cell_type": "code",
<<<<<<< HEAD
   "execution_count": 29,
   "metadata": {},
   "outputs": [],
   "source": [
    "# convert x to 4x4 matrix\n",
    "y = np.zeros((4,4))\n",
    "for l,i in product(range(2),repeat=2):\n",
    "    y[2*l:2*l+2, 2*i:2*i+2] = x[l,i,:,:]"
=======
   "execution_count": 230,
   "metadata": {},
   "outputs": [],
   "source": [
    "y = x.reshape((4,4))"
>>>>>>> 7f99b6294f59e973ea3f4975276f4eccca4ce644
   ]
  },
  {
   "cell_type": "code",
<<<<<<< HEAD
   "execution_count": 30,
=======
   "execution_count": 231,
>>>>>>> 7f99b6294f59e973ea3f4975276f4eccca4ce644
   "metadata": {},
   "outputs": [
    {
     "data": {
      "text/plain": [
<<<<<<< HEAD
       "array([[1., 2., 5., 6.],\n",
       "       [3., 4., 7., 8.],\n",
       "       [8., 7., 4., 3.],\n",
       "       [6., 5., 2., 1.]])"
      ]
     },
     "execution_count": 30,
=======
       "array([[1., 2., 3., 4.],\n",
       "       [5., 6., 7., 8.],\n",
       "       [8., 7., 6., 5.],\n",
       "       [4., 3., 2., 1.]])"
      ]
     },
     "execution_count": 231,
>>>>>>> 7f99b6294f59e973ea3f4975276f4eccca4ce644
     "metadata": {},
     "output_type": "execute_result"
    }
   ],
   "source": [
    "y"
   ]
  },
  {
   "cell_type": "code",
<<<<<<< HEAD
   "execution_count": 31,
=======
   "execution_count": 232,
>>>>>>> 7f99b6294f59e973ea3f4975276f4eccca4ce644
   "metadata": {},
   "outputs": [],
   "source": [
    "# perform svd for y\n",
    "uy,sy,vy = np.linalg.svd(y, full_matrices=True)"
   ]
  },
  {
   "cell_type": "code",
<<<<<<< HEAD
   "execution_count": 32,
   "metadata": {},
   "outputs": [],
   "source": [
    "# keep the largest 2 sv's only"
=======
   "execution_count": 233,
   "metadata": {},
   "outputs": [
    {
     "data": {
      "text/plain": [
       "array([[-0.5       , -0.5       , -0.5       , -0.5       ],\n",
       "       [ 0.67082039,  0.2236068 , -0.2236068 , -0.67082039],\n",
       "       [ 0.45584189, -0.83412248,  0.3007193 ,  0.07756129],\n",
       "       [-0.30365798,  0.06511283,  0.7807483 , -0.54220314]])"
      ]
     },
     "execution_count": 233,
     "metadata": {},
     "output_type": "execute_result"
    }
   ],
   "source": [
    "vy"
>>>>>>> 7f99b6294f59e973ea3f4975276f4eccca4ce644
   ]
  },
  {
   "cell_type": "code",
<<<<<<< HEAD
   "execution_count": 33,
=======
   "execution_count": 234,
   "metadata": {},
   "outputs": [
    {
     "data": {
      "text/plain": [
       "array([1.96977156e+01, 4.47213595e+00, 1.12793464e-15, 8.40295660e-17])"
      ]
     },
     "execution_count": 234,
     "metadata": {},
     "output_type": "execute_result"
    }
   ],
   "source": [
    "# keep the largest 2 sv's only\n",
    "sy"
   ]
  },
  {
   "cell_type": "code",
   "execution_count": 235,
>>>>>>> 7f99b6294f59e973ea3f4975276f4eccca4ce644
   "metadata": {},
   "outputs": [],
   "source": [
    "sy = sy[0:2]\n",
    "diag_sy = np.diag(sy)\n",
    "sy1 = np.sqrt(diag_sy)\n",
    "sy2 = np.sqrt(diag_sy)"
   ]
  },
  {
   "cell_type": "code",
<<<<<<< HEAD
   "execution_count": 34,
=======
   "execution_count": 236,
>>>>>>> 7f99b6294f59e973ea3f4975276f4eccca4ce644
   "metadata": {},
   "outputs": [
    {
     "data": {
      "text/plain": [
<<<<<<< HEAD
       "array([[18.43908891,  0.        ],\n",
       "       [ 0.        ,  8.24621125]])"
      ]
     },
     "execution_count": 34,
=======
       "array([[19.6977156 ,  0.        ],\n",
       "       [ 0.        ,  4.47213595]])"
      ]
     },
     "execution_count": 236,
>>>>>>> 7f99b6294f59e973ea3f4975276f4eccca4ce644
     "metadata": {},
     "output_type": "execute_result"
    }
   ],
   "source": [
    "diag_sy"
   ]
  },
  {
   "cell_type": "code",
<<<<<<< HEAD
   "execution_count": 35,
=======
   "execution_count": 237,
>>>>>>> 7f99b6294f59e973ea3f4975276f4eccca4ce644
   "metadata": {},
   "outputs": [
    {
     "data": {
      "text/plain": [
<<<<<<< HEAD
       "array([[4.29407603, 0.        ],\n",
       "       [0.        , 2.87162171]])"
      ]
     },
     "execution_count": 35,
=======
       "array([[4.43821086, 0.        ],\n",
       "       [0.        , 2.11474253]])"
      ]
     },
     "execution_count": 237,
>>>>>>> 7f99b6294f59e973ea3f4975276f4eccca4ce644
     "metadata": {},
     "output_type": "execute_result"
    }
   ],
   "source": [
    "sy1"
   ]
  },
  {
   "cell_type": "code",
<<<<<<< HEAD
   "execution_count": 36,
=======
   "execution_count": 238,
>>>>>>> 7f99b6294f59e973ea3f4975276f4eccca4ce644
   "metadata": {},
   "outputs": [
    {
     "data": {
      "text/plain": [
<<<<<<< HEAD
       "array([[-0.3796283 , -0.5       ],\n",
       "       [-0.59655876, -0.5       ],\n",
       "       [-0.59655876,  0.5       ],\n",
       "       [-0.3796283 ,  0.5       ]])"
      ]
     },
     "execution_count": 36,
=======
       "array([[-0.25383654, -0.5       ],\n",
       "       [-0.65997501, -0.5       ],\n",
       "       [-0.65997501,  0.5       ],\n",
       "       [-0.25383654,  0.5       ]])"
      ]
     },
     "execution_count": 238,
>>>>>>> 7f99b6294f59e973ea3f4975276f4eccca4ce644
     "metadata": {},
     "output_type": "execute_result"
    }
   ],
   "source": [
    "uy = uy[:,0:2]\n",
    "uy"
   ]
  },
  {
   "cell_type": "code",
<<<<<<< HEAD
   "execution_count": 37,
=======
   "execution_count": 239,
>>>>>>> 7f99b6294f59e973ea3f4975276f4eccca4ce644
   "metadata": {},
   "outputs": [
    {
     "data": {
      "text/plain": [
       "array([[-0.5       , -0.5       , -0.5       , -0.5       ],\n",
<<<<<<< HEAD
       "       [ 0.60633906,  0.36380344, -0.36380344, -0.60633906]])"
      ]
     },
     "execution_count": 37,
=======
       "       [ 0.67082039,  0.2236068 , -0.2236068 , -0.67082039]])"
      ]
     },
     "execution_count": 239,
>>>>>>> 7f99b6294f59e973ea3f4975276f4eccca4ce644
     "metadata": {},
     "output_type": "execute_result"
    }
   ],
   "source": [
    "vy = vy[0:2,:]\n",
    "vy"
   ]
  },
  {
   "cell_type": "code",
<<<<<<< HEAD
   "execution_count": 38,
=======
   "execution_count": 240,
>>>>>>> 7f99b6294f59e973ea3f4975276f4eccca4ce644
   "metadata": {},
   "outputs": [],
   "source": [
    "mat1 = np.matmul(uy,sy1)\n",
    "mat2 = np.matmul(sy2,vy)"
   ]
  },
  {
   "cell_type": "code",
<<<<<<< HEAD
   "execution_count": 39,
=======
   "execution_count": 241,
>>>>>>> 7f99b6294f59e973ea3f4975276f4eccca4ce644
   "metadata": {},
   "outputs": [
    {
     "data": {
      "text/plain": [
<<<<<<< HEAD
       "array([[-1.63015279, -1.43581086],\n",
       "       [-2.56166866, -1.43581086],\n",
       "       [-2.56166866,  1.43581086],\n",
       "       [-1.63015279,  1.43581086]])"
      ]
     },
     "execution_count": 39,
=======
       "array([[-1.12658009, -1.05737126],\n",
       "       [-2.92910824, -1.05737126],\n",
       "       [-2.92910824,  1.05737126],\n",
       "       [-1.12658009,  1.05737126]])"
      ]
     },
     "execution_count": 241,
>>>>>>> 7f99b6294f59e973ea3f4975276f4eccca4ce644
     "metadata": {},
     "output_type": "execute_result"
    }
   ],
   "source": [
    "mat1"
   ]
  },
  {
   "cell_type": "code",
<<<<<<< HEAD
   "execution_count": 40,
=======
   "execution_count": 242,
>>>>>>> 7f99b6294f59e973ea3f4975276f4eccca4ce644
   "metadata": {},
   "outputs": [
    {
     "data": {
      "text/plain": [
<<<<<<< HEAD
       "array([[-2.14703801, -2.14703801, -2.14703801, -2.14703801],\n",
       "       [ 1.74117642,  1.04470585, -1.04470585, -1.74117642]])"
      ]
     },
     "execution_count": 40,
=======
       "array([[-2.21910543, -2.21910543, -2.21910543, -2.21910543],\n",
       "       [ 1.41861241,  0.4728708 , -0.4728708 , -1.41861241]])"
      ]
     },
     "execution_count": 242,
>>>>>>> 7f99b6294f59e973ea3f4975276f4eccca4ce644
     "metadata": {},
     "output_type": "execute_result"
    }
   ],
   "source": [
    "mat2"
   ]
  },
  {
   "cell_type": "code",
<<<<<<< HEAD
   "execution_count": 41,
=======
   "execution_count": 243,
>>>>>>> 7f99b6294f59e973ea3f4975276f4eccca4ce644
   "metadata": {},
   "outputs": [
    {
     "data": {
      "text/plain": [
<<<<<<< HEAD
       "array([[1., 2., 5., 6.],\n",
       "       [3., 4., 7., 8.],\n",
       "       [8., 7., 4., 3.],\n",
       "       [6., 5., 2., 1.]])"
      ]
     },
     "execution_count": 41,
=======
       "array([[1., 2., 3., 4.],\n",
       "       [5., 6., 7., 8.],\n",
       "       [8., 7., 6., 5.],\n",
       "       [4., 3., 2., 1.]])"
      ]
     },
     "execution_count": 243,
>>>>>>> 7f99b6294f59e973ea3f4975276f4eccca4ce644
     "metadata": {},
     "output_type": "execute_result"
    }
   ],
   "source": [
    "# verify svd result\n",
    "np.matmul(mat1,mat2)"
   ]
  },
  {
   "cell_type": "code",
<<<<<<< HEAD
   "execution_count": 42,
=======
   "execution_count": 244,
>>>>>>> 7f99b6294f59e973ea3f4975276f4eccca4ce644
   "metadata": {},
   "outputs": [],
   "source": [
    "tensor1 = np.zeros((2,2,2))\n",
    "tensor2 = np.zeros((2,2,2))"
   ]
  },
  {
   "cell_type": "code",
<<<<<<< HEAD
   "execution_count": 43,
=======
   "execution_count": 245,
>>>>>>> 7f99b6294f59e973ea3f4975276f4eccca4ce644
   "metadata": {},
   "outputs": [
    {
     "data": {
      "text/plain": [
<<<<<<< HEAD
       "array([[-1.63015279, -1.43581086],\n",
       "       [-2.56166866, -1.43581086],\n",
       "       [-2.56166866,  1.43581086],\n",
       "       [-1.63015279,  1.43581086]])"
      ]
     },
     "execution_count": 43,
=======
       "array([[-1.12658009, -1.05737126],\n",
       "       [-2.92910824, -1.05737126],\n",
       "       [-2.92910824,  1.05737126],\n",
       "       [-1.12658009,  1.05737126]])"
      ]
     },
     "execution_count": 245,
>>>>>>> 7f99b6294f59e973ea3f4975276f4eccca4ce644
     "metadata": {},
     "output_type": "execute_result"
    }
   ],
   "source": [
    "mat1"
   ]
  },
  {
   "cell_type": "code",
<<<<<<< HEAD
   "execution_count": 44,
   "metadata": {},
   "outputs": [],
   "source": [
    "# 4x2 to 2x2x2 tensor\n",
    "for i,j in product(range(2),repeat=2):\n",
    "    tensor1[i,j,:] = mat1[2*i:2*i+2,j]"
=======
   "execution_count": 246,
   "metadata": {},
   "outputs": [],
   "source": [
    "tensor1 = mat1.reshape((2,2,2))"
>>>>>>> 7f99b6294f59e973ea3f4975276f4eccca4ce644
   ]
  },
  {
   "cell_type": "code",
<<<<<<< HEAD
   "execution_count": 45,
=======
   "execution_count": 247,
>>>>>>> 7f99b6294f59e973ea3f4975276f4eccca4ce644
   "metadata": {},
   "outputs": [
    {
     "data": {
      "text/plain": [
<<<<<<< HEAD
       "array([-1.43581086, -1.43581086])"
      ]
     },
     "execution_count": 45,
=======
       "-2.9291082423459662"
      ]
     },
     "execution_count": 247,
>>>>>>> 7f99b6294f59e973ea3f4975276f4eccca4ce644
     "metadata": {},
     "output_type": "execute_result"
    }
   ],
   "source": [
<<<<<<< HEAD
    "tensor1[0,1]"
=======
    "tensor1[1,0,0]"
>>>>>>> 7f99b6294f59e973ea3f4975276f4eccca4ce644
   ]
  },
  {
   "cell_type": "code",
<<<<<<< HEAD
   "execution_count": 46,
   "metadata": {},
   "outputs": [],
   "source": [
    "# 2x4 to 2x2x2 tensor\n",
    "for i,j in product(range(2),repeat=2):\n",
    "    tensor2[i,j,:] = mat2[i,2*j:2*j+2]"
   ]
  },
  {
   "cell_type": "code",
   "execution_count": 47,
=======
   "execution_count": 248,
>>>>>>> 7f99b6294f59e973ea3f4975276f4eccca4ce644
   "metadata": {},
   "outputs": [
    {
     "data": {
      "text/plain": [
<<<<<<< HEAD
       "array([[-2.14703801, -2.14703801, -2.14703801, -2.14703801],\n",
       "       [ 1.74117642,  1.04470585, -1.04470585, -1.74117642]])"
      ]
     },
     "execution_count": 47,
=======
       "array([[-2.21910543, -2.21910543, -2.21910543, -2.21910543],\n",
       "       [ 1.41861241,  0.4728708 , -0.4728708 , -1.41861241]])"
      ]
     },
     "execution_count": 248,
>>>>>>> 7f99b6294f59e973ea3f4975276f4eccca4ce644
     "metadata": {},
     "output_type": "execute_result"
    }
   ],
   "source": [
    "mat2"
   ]
  },
  {
   "cell_type": "code",
<<<<<<< HEAD
   "execution_count": 48,
   "metadata": {},
   "outputs": [
    {
     "data": {
      "text/plain": [
       "array([-2.14703801, -2.14703801])"
      ]
     },
     "execution_count": 48,
     "metadata": {},
     "output_type": "execute_result"
    }
   ],
   "source": [
    "tensor2[0,1]"
   ]
  },
  {
   "cell_type": "code",
   "execution_count": 56,
   "metadata": {},
   "outputs": [],
   "source": [
    "result = np.einsum('ijk,mnk->ijmn',tensor1,tensor2)"
=======
   "execution_count": 249,
   "metadata": {},
   "outputs": [],
   "source": [
    "tensor2 = mat2.reshape((2,2,2))"
>>>>>>> 7f99b6294f59e973ea3f4975276f4eccca4ce644
   ]
  },
  {
   "cell_type": "code",
<<<<<<< HEAD
   "execution_count": 57,
=======
   "execution_count": 250,
>>>>>>> 7f99b6294f59e973ea3f4975276f4eccca4ce644
   "metadata": {},
   "outputs": [
    {
     "data": {
      "text/plain": [
<<<<<<< HEAD
       "array([[[[ 9.        ,  9.        ],\n",
       "         [-5.51457383,  6.16334722]],\n",
       "\n",
       "        [[ 6.16548097,  6.16548097],\n",
       "         [-4.        ,  4.        ]]],\n",
       "\n",
       "\n",
       "       [[[ 9.        ,  9.        ],\n",
       "         [-6.16334722,  5.51457383]],\n",
       "\n",
       "        [[-6.16548097, -6.16548097],\n",
       "         [ 4.        , -4.        ]]]])"
      ]
     },
     "execution_count": 57,
=======
       "array([[[-2.21910543, -2.21910543],\n",
       "        [-2.21910543, -2.21910543]],\n",
       "\n",
       "       [[ 1.41861241,  0.4728708 ],\n",
       "        [-0.4728708 , -1.41861241]]])"
      ]
     },
     "execution_count": 250,
>>>>>>> 7f99b6294f59e973ea3f4975276f4eccca4ce644
     "metadata": {},
     "output_type": "execute_result"
    }
   ],
   "source": [
<<<<<<< HEAD
    "result"
=======
    "tensor2"
>>>>>>> 7f99b6294f59e973ea3f4975276f4eccca4ce644
   ]
  },
  {
   "cell_type": "code",
<<<<<<< HEAD
   "execution_count": 61,
   "metadata": {},
   "outputs": [],
   "source": [
    "c = [1,2]"
=======
   "execution_count": 251,
   "metadata": {},
   "outputs": [],
   "source": [
    "result = np.einsum('lin,njk->lijk',tensor1,tensor2)"
>>>>>>> 7f99b6294f59e973ea3f4975276f4eccca4ce644
   ]
  },
  {
   "cell_type": "code",
<<<<<<< HEAD
   "execution_count": 62,
   "metadata": {},
   "outputs": [],
   "source": [
    "for i in range(2):\n",
    "    c.append(c[i])"
   ]
  },
  {
   "cell_type": "code",
   "execution_count": 63,
=======
   "execution_count": 252,
>>>>>>> 7f99b6294f59e973ea3f4975276f4eccca4ce644
   "metadata": {},
   "outputs": [
    {
     "data": {
      "text/plain": [
<<<<<<< HEAD
       "[1, 2, 1, 2]"
      ]
     },
     "execution_count": 63,
=======
       "array([[[[1., 2.],\n",
       "         [3., 4.]],\n",
       "\n",
       "        [[5., 6.],\n",
       "         [7., 8.]]],\n",
       "\n",
       "\n",
       "       [[[8., 7.],\n",
       "         [6., 5.]],\n",
       "\n",
       "        [[4., 3.],\n",
       "         [2., 1.]]]])"
      ]
     },
     "execution_count": 252,
>>>>>>> 7f99b6294f59e973ea3f4975276f4eccca4ce644
     "metadata": {},
     "output_type": "execute_result"
    }
   ],
   "source": [
<<<<<<< HEAD
    "c"
   ]
  },
  {
   "cell_type": "code",
   "execution_count": null,
   "metadata": {},
   "outputs": [],
   "source": []
=======
    "result"
   ]
>>>>>>> 7f99b6294f59e973ea3f4975276f4eccca4ce644
  }
 ],
 "metadata": {
  "kernelspec": {
   "display_name": "Python 3",
   "language": "python",
   "name": "python3"
  },
  "language_info": {
   "codemirror_mode": {
    "name": "ipython",
    "version": 3
   },
   "file_extension": ".py",
   "mimetype": "text/x-python",
   "name": "python",
   "nbconvert_exporter": "python",
   "pygments_lexer": "ipython3",
   "version": "3.6.6"
  }
 },
 "nbformat": 4,
 "nbformat_minor": 2
}
