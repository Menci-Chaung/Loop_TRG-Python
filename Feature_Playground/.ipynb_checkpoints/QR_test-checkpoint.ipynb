{
 "cells": [
  {
   "cell_type": "code",
   "execution_count": 103,
   "metadata": {},
   "outputs": [],
   "source": [
    "import numpy as np\n",
    "from itertools import product"
   ]
  },
  {
   "cell_type": "code",
   "execution_count": 104,
   "metadata": {},
   "outputs": [],
   "source": [
    "# define QR decomposition of array with \n",
    "# dimention (2,2,2,2,2,2,2,2)\n",
    "def my_QR(T):\n",
    "    \n",
    "    Q = np.ones([2,2,2,2,2,2,2,2])\n",
    "    R = np.ones([2,2,2,2,2,2,2,2])\n",
    "    \n",
    "    for a,b,c,d,e,f in product(range(2),repeat=6):\n",
    "        Q[a,b,c,d,e,f,:,:], R[a,b,c,d,e,f,:,:] = np.linalg.qr(T[a,b,c,d,e,f,:,:])\n",
    "    return Q, R\n",
    "\n",
    "# define the product of (2,2,2,2) array\n",
    "# checked that four_D_dot(Q,R) can give back\n",
    "# the input tensor T\n",
    "def my_tensordot(T1,T2):\n",
    "    result = np.ones([2,2,2,2,2,2,2,2])\n",
    "    for a,b,c,d,e,f in product(range(2),repeat=6):\n",
    "        result[a,b,c,d,e,f,:,:] = np.matmul(T1[a,b,c,d,e,f,:,:],T2[a,b,c,d,e,f,:,:])\n",
    "    return result"
   ]
  },
  {
   "cell_type": "code",
   "execution_count": 105,
   "metadata": {},
   "outputs": [],
   "source": [
    "a = np.array([2,1],dtype=float)"
   ]
  },
  {
   "cell_type": "code",
   "execution_count": 106,
   "metadata": {},
   "outputs": [],
   "source": [
    "A = np.diag(a)"
   ]
  },
  {
   "cell_type": "code",
   "execution_count": 107,
   "metadata": {},
   "outputs": [
    {
     "data": {
      "text/plain": [
       "array([[2., 0.],\n",
       "       [0., 1.]])"
      ]
     },
     "execution_count": 107,
     "metadata": {},
     "output_type": "execute_result"
    }
   ],
   "source": [
    "A"
   ]
  },
  {
   "cell_type": "code",
   "execution_count": 108,
   "metadata": {},
   "outputs": [],
   "source": [
    "T = np.einsum('ij,kl,mn,pq->ijklmnpq',A,A,A,A)"
   ]
  },
  {
   "cell_type": "code",
   "execution_count": 109,
   "metadata": {},
   "outputs": [],
   "source": [
    "Q,R = my_QR(T)"
   ]
  },
  {
   "cell_type": "code",
   "execution_count": 110,
   "metadata": {},
   "outputs": [
    {
     "data": {
      "text/plain": [
       "array([[16.,  0.],\n",
       "       [ 0.,  8.]])"
      ]
     },
     "execution_count": 110,
     "metadata": {},
     "output_type": "execute_result"
    }
   ],
   "source": [
    "R[0,0,0,0,0,0]"
   ]
  },
  {
   "cell_type": "code",
   "execution_count": 111,
   "metadata": {},
   "outputs": [],
   "source": [
    "new_T = my_tensordot(R,T)"
   ]
  },
  {
   "cell_type": "code",
   "execution_count": null,
   "metadata": {},
   "outputs": [],
   "source": []
  }
 ],
 "metadata": {
  "kernelspec": {
   "display_name": "Python 3",
   "language": "python",
   "name": "python3"
  },
  "language_info": {
   "codemirror_mode": {
    "name": "ipython",
    "version": 3
   },
   "file_extension": ".py",
   "mimetype": "text/x-python",
   "name": "python",
   "nbconvert_exporter": "python",
   "pygments_lexer": "ipython3",
   "version": "3.6.6"
  }
 },
 "nbformat": 4,
 "nbformat_minor": 2
}
